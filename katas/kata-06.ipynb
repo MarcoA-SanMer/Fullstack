{
 "cells": [
  {
   "cell_type": "markdown",
   "metadata": {},
   "source": [
    "Ejercicio1: Crear y usar listas de Python"
   ]
  },
  {
   "cell_type": "code",
   "execution_count": 6,
   "metadata": {},
   "outputs": [
    {
     "name": "stdout",
     "output_type": "stream",
     "text": [
      "El numero de planetas es 8\n",
      "El numero de planetas es 9\n",
      "El ultimo planeta de la lista es Pluto\n"
     ]
    }
   ],
   "source": [
    "planets=['Mercury', 'Venus', 'Earth', 'Mars', 'Jupiter', 'Saturn', 'Uranus', 'Neptune']\n",
    "print(f\"El numero de planetas es {len(planets)}\")\n",
    "planets.append('Pluto')\n",
    "print(f\"El numero de planetas es {len(planets)}\")\n",
    "print(f\"El ultimo planeta de la lista es {planets[-1]}\")"
   ]
  },
  {
   "cell_type": "markdown",
   "metadata": {},
   "source": [
    "Ejercicio 2: Trabajando con datos de una lista"
   ]
  },
  {
   "cell_type": "code",
   "execution_count": 15,
   "metadata": {},
   "outputs": [
    {
     "name": "stdout",
     "output_type": "stream",
     "text": [
      "Los planetas más cercanos al sol son ['Mercury', 'Venus']\n",
      "Los planetas más lejanos al sol son ['Mars', 'Jupiter', 'Saturn', 'Neptune']\n"
     ]
    }
   ],
   "source": [
    "planets = ['Mercury', 'Venus', 'Earth', 'Mars', 'Jupiter', 'Saturn', 'Neptune']\n",
    "name=input(\"Ingresa un nombre con la primera letra mayuscula\")\n",
    "try:\n",
    "    planet_index=planets.index(name)\n",
    "    print(f\"Los planetas más cercanos al sol son {planets[0:planet_index]}\")\n",
    "    print(f\"Los planetas más lejanos al sol son {planets[planet_index+1:]}\")\n",
    "except:\n",
    "    print(\"Ingrese un planeta valido\")\n"
   ]
  }
 ],
 "metadata": {
  "interpreter": {
   "hash": "b9042f73efc625a7221879088d5f8b3648a95da0392f04fdb4476149b05e9c7d"
  },
  "kernelspec": {
   "display_name": "Python 3.10.2 64-bit",
   "language": "python",
   "name": "python3"
  },
  "language_info": {
   "codemirror_mode": {
    "name": "ipython",
    "version": 3
   },
   "file_extension": ".py",
   "mimetype": "text/x-python",
   "name": "python",
   "nbconvert_exporter": "python",
   "pygments_lexer": "ipython3",
   "version": "3.10.2"
  },
  "orig_nbformat": 4
 },
 "nbformat": 4,
 "nbformat_minor": 2
}

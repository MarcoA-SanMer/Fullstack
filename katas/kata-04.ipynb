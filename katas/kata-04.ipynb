{
 "cells": [
  {
   "cell_type": "markdown",
   "metadata": {},
   "source": [
    "Ejercicio 1: Transformar cadenas"
   ]
  },
  {
   "cell_type": "code",
   "execution_count": 6,
   "metadata": {},
   "outputs": [
    {
     "name": "stdout",
     "output_type": "stream",
     "text": [
      "['average', 'temperature', 'distance']\n",
      "\n",
      "On average, the Moon moves 4cm away from the Earth every year\n",
      "\n",
      "On average, the Moon moves 4cm away from the Earth every year\n"
     ]
    }
   ],
   "source": [
    "texto = \"\"\"Interesting facts about the Moon. The Moon is Earth's only satellite. There are several interesting facts about the Moon and how it affects life here on Earth. \n",
    "On average, the Moon moves 4cm away from the Earth every year. This yearly drift is not significant enough to cause immediate effects on Earth.\"\"\"\n",
    "\n",
    "texto_dividido=texto.split('. ')\n",
    "palabras_clave=[\"average\",\"temperature\",\"distance\"]\n",
    "print(palabras_clave)\n",
    "\n",
    "for datos in texto_dividido:\n",
    "    for palabras_c in palabras_clave:\n",
    "        if palabras_c in datos:\n",
    "            print(datos)\n",
    "            break\n",
    "\n",
    "for datos in texto_dividido:\n",
    "    for palabras_c in palabras_clave:\n",
    "        if palabras_c in datos:\n",
    "            print(datos.replace('C', 'Celsius'))\n",
    "            break"
   ]
  },
  {
   "cell_type": "markdown",
   "metadata": {},
   "source": [
    "Ejercicio 2: Formateando Cadenas"
   ]
  },
  {
   "cell_type": "code",
   "execution_count": 19,
   "metadata": {},
   "outputs": [
    {
     "name": "stdout",
     "output_type": "stream",
     "text": [
      "Datos De La Gravedad En Moon -------------------------------------------------------------------------------- \n",
      " Nombre del planeta: Earth \n",
      " Gravedad en Moon: 1.6199999999999999  \n",
      "Datos De La Gravedad En Moon -------------------------------------------------------------------------------- \n",
      " Nombre del planeta: Earth \n",
      " Gravedad en Moon: 1.6199999999999999  \n",
      " Datos de Gravedad sobre: Ganímedes------------------------------------------------------------------------------- \n",
      "Nombre del planeta: Marte  \n",
      "Gravedad en Ganímedes: 1.4300000000000002 m/s2\n"
     ]
    }
   ],
   "source": [
    "name = \"Moon\"\n",
    "gravity = 0.00162 # in kms\n",
    "planet = \"Earth\"\n",
    "\n",
    "titulo=f\"Datos de la gravedad en {name}\"\n",
    "\n",
    "datos = f\"\"\"{'-'*80} \\n Nombre del planeta: {planet} \\n Gravedad en {name}: {gravity * 1000} \"\"\"\n",
    "\n",
    "template = f\"\"\"{titulo.title()} {datos} \"\"\" \n",
    "print(template)\n",
    "\n",
    "planet = 'Marte '\n",
    "gravity = 0.00143\n",
    "name = 'Ganímedes'\n",
    "\n",
    "print(template)\n",
    "\n",
    "new_template = \"\"\" Datos de Gravedad sobre: {name}------------------------------------------------------------------------------- \\nNombre del planeta: {planet} \\nGravedad en {name}: {gravity} m/s2\"\"\"\n",
    "print(new_template.format(name=name,planet=planet,gravity=gravity*1000))\n"
   ]
  }
 ],
 "metadata": {
  "interpreter": {
   "hash": "b9042f73efc625a7221879088d5f8b3648a95da0392f04fdb4476149b05e9c7d"
  },
  "kernelspec": {
   "display_name": "Python 3.10.2 64-bit",
   "language": "python",
   "name": "python3"
  },
  "language_info": {
   "codemirror_mode": {
    "name": "ipython",
    "version": 3
   },
   "file_extension": ".py",
   "mimetype": "text/x-python",
   "name": "python",
   "nbconvert_exporter": "python",
   "pygments_lexer": "ipython3",
   "version": "3.10.2"
  },
  "orig_nbformat": 4
 },
 "nbformat": 4,
 "nbformat_minor": 2
}

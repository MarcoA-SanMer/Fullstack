{
 "cells": [
  {
   "cell_type": "markdown",
   "metadata": {},
   "source": [
    "Ejercicio 1: Trabajar con argumentos en funciones"
   ]
  },
  {
   "cell_type": "code",
   "execution_count": 12,
   "metadata": {},
   "outputs": [
    {
     "name": "stdout",
     "output_type": "stream",
     "text": [
      "tanque1: 15 tanque2: 8 tanque3: 4 \n",
      "promedio: 9.0\n",
      "73.66666666666667\n",
      "tanque1: 15 tanque2: 8 tanque3: 4 \n",
      "promedio: 9.0\n"
     ]
    }
   ],
   "source": [
    "def tanques(tanque_1,tanque_2,tanque_3):\n",
    "    promedio=(tanque_1+tanque_2+tanque_3)/3\n",
    "    return f'tanque1: {tanque_1} tanque2: {tanque_2} tanque3: {tanque_3} \\npromedio: {promedio}'\n",
    "\n",
    "print(tanques(15,8,4))\n",
    "\n",
    "def promedio(valores):\n",
    "    total = sum(valores)\n",
    "    numero_val = len(valores)\n",
    "    return total / numero_val\n",
    "\n",
    "print(promedio([60, 80, 81]))\n",
    "\n",
    "def tanques(tanque_1,tanque_2,tanque_3):\n",
    "    promed=promedio([tanque_1,tanque_2,tanque_3])\n",
    "    return f'tanque1: {tanque_1} tanque2: {tanque_2} tanque3: {tanque_3} \\npromedio: {promed}'\n",
    "\n",
    "print(tanques(15,8,4))"
   ]
  },
  {
   "cell_type": "markdown",
   "metadata": {},
   "source": [
    "Ejercicio 2: Trabajo con argumentos de palabra clave"
   ]
  },
  {
   "cell_type": "code",
   "execution_count": 17,
   "metadata": {},
   "outputs": [
    {
     "name": "stdout",
     "output_type": "stream",
     "text": [
      " -Mision a Marte -Tiempo total de viaje: 38 minutos  -Combustible restante: 500000 galones \n",
      " -Mision a Marte -Tiempo total de viaje: 133 minutos  -Combustible restante: 50000 galones\n",
      " -Mision a Marte Tiempo total de viaje: 133 minutos  -Combustible restante: 50000 galones \n",
      "\n",
      "tanque principal --> 20000 galones restantes\n",
      "\n",
      "tanque externo --> 30000 galones restantes\n",
      "\n"
     ]
    }
   ],
   "source": [
    "# Función con un informe preciso de la misión. Considera hora de prelanzamiento, tiempo de vuelo, destino, tanque externo y tanque interno\n",
    "\n",
    "def reporte_mision(pre_lanzamiento, tiempo_v, destino, tanque_externo, tanque_principal):\n",
    "    return f\"\"\" -Mision a {destino} -Tiempo total de viaje: {pre_lanzamiento + tiempo_v} minutos  -Combustible restante: {tanque_externo + tanque_principal} galones \"\"\"\n",
    "\n",
    "print(reporte_mision(18, 20, \"Marte\", 200000, 300000))\n",
    "\n",
    "# Escribe tu nueva función de reporte considerando lo anterior\n",
    "def reporte_mision(destino, *minutos, **reservas_combustible):\n",
    "    return f\"\"\" -Mision a {destino} -Tiempo total de viaje: {sum(minutos)} minutos  -Combustible restante: {sum(reservas_combustible.values())} galones\"\"\"\n",
    "\n",
    "print(reporte_mision('Marte',15,78,40,principal=20000, externo=30000))\n",
    "\n",
    "\n",
    "# Escribe tu nueva función\n",
    "def reporte_mision(destino, *minutos, **reservas_combustible):\n",
    "    reporte= f\"\"\" -Mision a {destino} Tiempo total de viaje: {sum(minutos)} minutos  -Combustible restante: {sum(reservas_combustible.values())} galones \\n\"\"\"\n",
    "    for tanque, galones in reservas_combustible.items():\n",
    "        reporte += f\"\\ntanque {tanque} --> {galones} galones restantes\\n\"\n",
    "    return reporte\n",
    "print(reporte_mision('Marte',15,78,40,principal=20000, externo=30000))"
   ]
  }
 ],
 "metadata": {
  "interpreter": {
   "hash": "b9042f73efc625a7221879088d5f8b3648a95da0392f04fdb4476149b05e9c7d"
  },
  "kernelspec": {
   "display_name": "Python 3.10.2 64-bit",
   "language": "python",
   "name": "python3"
  },
  "language_info": {
   "codemirror_mode": {
    "name": "ipython",
    "version": 3
   },
   "file_extension": ".py",
   "mimetype": "text/x-python",
   "name": "python",
   "nbconvert_exporter": "python",
   "pygments_lexer": "ipython3",
   "version": "3.10.2"
  },
  "orig_nbformat": 4
 },
 "nbformat": 4,
 "nbformat_minor": 2
}

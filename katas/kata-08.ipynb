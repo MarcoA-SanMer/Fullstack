{
 "cells": [
  {
   "cell_type": "markdown",
   "metadata": {},
   "source": [
    "Ejercicio 1: Creación de diccionarios de Python"
   ]
  },
  {
   "cell_type": "code",
   "execution_count": 9,
   "metadata": {},
   "outputs": [
    {
     "name": "stdout",
     "output_type": "stream",
     "text": [
      "El nombre es:mars y tiene : 2 lunas\n",
      "El nombre es:mars y su circunferencia polar es 6752\n"
     ]
    }
   ],
   "source": [
    "planet={'name':'mars','moons':2}\n",
    "print(f\"El nombre es:{planet.get('name')} y tiene : {planet.get('moons')} lunas\")\n",
    "planet['circunferencia (km)'] = {'polar': 6752, 'equatorial': 6792}\n",
    "print(f\"El nombre es:{planet.get('name')} y su circunferencia polar es {planet['circunferencia (km)']['polar']}\")"
   ]
  },
  {
   "cell_type": "markdown",
   "metadata": {},
   "source": [
    "Ejercicio 2"
   ]
  },
  {
   "cell_type": "code",
   "execution_count": 12,
   "metadata": {},
   "outputs": [
    {
     "name": "stdout",
     "output_type": "stream",
     "text": [
      "promedio 17.833333333333332\n"
     ]
    }
   ],
   "source": [
    "planet_moons = {'mercury': 0, 'venus': 0,'earth': 1,'mars': 2,'jupiter': 79,'saturn': 82,'uranus': 27,'neptune': 14,'pluto': 5,'haumea': 2,'makemake': 1,'eris': 1}\n",
    "\n",
    "lunas=0\n",
    "planetas=0\n",
    "for moons in planet_moons.values():\n",
    "    lunas+=moons\n",
    "    planetas+=1\n",
    "\n",
    "print(f\"promedio {lunas/planetas}\")"
   ]
  }
 ],
 "metadata": {
  "interpreter": {
   "hash": "b9042f73efc625a7221879088d5f8b3648a95da0392f04fdb4476149b05e9c7d"
  },
  "kernelspec": {
   "display_name": "Python 3.10.2 64-bit",
   "language": "python",
   "name": "python3"
  },
  "language_info": {
   "codemirror_mode": {
    "name": "ipython",
    "version": 3
   },
   "file_extension": ".py",
   "mimetype": "text/x-python",
   "name": "python",
   "nbconvert_exporter": "python",
   "pygments_lexer": "ipython3",
   "version": "3.10.2"
  },
  "orig_nbformat": 4
 },
 "nbformat": 4,
 "nbformat_minor": 2
}
